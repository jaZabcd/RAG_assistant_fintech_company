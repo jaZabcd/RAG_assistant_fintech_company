{
  "nbformat": 4,
  "nbformat_minor": 0,
  "metadata": {
    "colab": {
      "provenance": [],
      "gpuType": "T4"
    },
    "kernelspec": {
      "name": "python3",
      "display_name": "Python 3"
    },
    "language_info": {
      "name": "python"
    },
    "accelerator": "GPU"
  },
  "cells": [
    {
      "cell_type": "code",
      "execution_count": 2,
      "metadata": {
        "id": "GhjQzdBY0niz"
      },
      "outputs": [],
      "source": [
        "import os\n",
        "os.makedirs(\"content/data\", exist_ok=True)"
      ]
    },
    {
      "cell_type": "code",
      "source": [
        "from google.colab import files\n",
        "uploaded = files.upload()"
      ],
      "metadata": {
        "colab": {
          "base_uri": "https://localhost:8080/",
          "height": 385
        },
        "collapsed": true,
        "id": "tjhGt-Gv4zkf",
        "outputId": "9084a0a9-e324-4e0c-ab65-ad8bf1f5524b"
      },
      "execution_count": 3,
      "outputs": [
        {
          "output_type": "display_data",
          "data": {
            "text/plain": [
              "<IPython.core.display.HTML object>"
            ],
            "text/html": [
              "\n",
              "     <input type=\"file\" id=\"files-7ec26fd5-efa9-4cf1-a642-c10e19a8a9ac\" name=\"files[]\" multiple disabled\n",
              "        style=\"border:none\" />\n",
              "     <output id=\"result-7ec26fd5-efa9-4cf1-a642-c10e19a8a9ac\">\n",
              "      Upload widget is only available when the cell has been executed in the\n",
              "      current browser session. Please rerun this cell to enable.\n",
              "      </output>\n",
              "      <script>// Copyright 2017 Google LLC\n",
              "//\n",
              "// Licensed under the Apache License, Version 2.0 (the \"License\");\n",
              "// you may not use this file except in compliance with the License.\n",
              "// You may obtain a copy of the License at\n",
              "//\n",
              "//      http://www.apache.org/licenses/LICENSE-2.0\n",
              "//\n",
              "// Unless required by applicable law or agreed to in writing, software\n",
              "// distributed under the License is distributed on an \"AS IS\" BASIS,\n",
              "// WITHOUT WARRANTIES OR CONDITIONS OF ANY KIND, either express or implied.\n",
              "// See the License for the specific language governing permissions and\n",
              "// limitations under the License.\n",
              "\n",
              "/**\n",
              " * @fileoverview Helpers for google.colab Python module.\n",
              " */\n",
              "(function(scope) {\n",
              "function span(text, styleAttributes = {}) {\n",
              "  const element = document.createElement('span');\n",
              "  element.textContent = text;\n",
              "  for (const key of Object.keys(styleAttributes)) {\n",
              "    element.style[key] = styleAttributes[key];\n",
              "  }\n",
              "  return element;\n",
              "}\n",
              "\n",
              "// Max number of bytes which will be uploaded at a time.\n",
              "const MAX_PAYLOAD_SIZE = 100 * 1024;\n",
              "\n",
              "function _uploadFiles(inputId, outputId) {\n",
              "  const steps = uploadFilesStep(inputId, outputId);\n",
              "  const outputElement = document.getElementById(outputId);\n",
              "  // Cache steps on the outputElement to make it available for the next call\n",
              "  // to uploadFilesContinue from Python.\n",
              "  outputElement.steps = steps;\n",
              "\n",
              "  return _uploadFilesContinue(outputId);\n",
              "}\n",
              "\n",
              "// This is roughly an async generator (not supported in the browser yet),\n",
              "// where there are multiple asynchronous steps and the Python side is going\n",
              "// to poll for completion of each step.\n",
              "// This uses a Promise to block the python side on completion of each step,\n",
              "// then passes the result of the previous step as the input to the next step.\n",
              "function _uploadFilesContinue(outputId) {\n",
              "  const outputElement = document.getElementById(outputId);\n",
              "  const steps = outputElement.steps;\n",
              "\n",
              "  const next = steps.next(outputElement.lastPromiseValue);\n",
              "  return Promise.resolve(next.value.promise).then((value) => {\n",
              "    // Cache the last promise value to make it available to the next\n",
              "    // step of the generator.\n",
              "    outputElement.lastPromiseValue = value;\n",
              "    return next.value.response;\n",
              "  });\n",
              "}\n",
              "\n",
              "/**\n",
              " * Generator function which is called between each async step of the upload\n",
              " * process.\n",
              " * @param {string} inputId Element ID of the input file picker element.\n",
              " * @param {string} outputId Element ID of the output display.\n",
              " * @return {!Iterable<!Object>} Iterable of next steps.\n",
              " */\n",
              "function* uploadFilesStep(inputId, outputId) {\n",
              "  const inputElement = document.getElementById(inputId);\n",
              "  inputElement.disabled = false;\n",
              "\n",
              "  const outputElement = document.getElementById(outputId);\n",
              "  outputElement.innerHTML = '';\n",
              "\n",
              "  const pickedPromise = new Promise((resolve) => {\n",
              "    inputElement.addEventListener('change', (e) => {\n",
              "      resolve(e.target.files);\n",
              "    });\n",
              "  });\n",
              "\n",
              "  const cancel = document.createElement('button');\n",
              "  inputElement.parentElement.appendChild(cancel);\n",
              "  cancel.textContent = 'Cancel upload';\n",
              "  const cancelPromise = new Promise((resolve) => {\n",
              "    cancel.onclick = () => {\n",
              "      resolve(null);\n",
              "    };\n",
              "  });\n",
              "\n",
              "  // Wait for the user to pick the files.\n",
              "  const files = yield {\n",
              "    promise: Promise.race([pickedPromise, cancelPromise]),\n",
              "    response: {\n",
              "      action: 'starting',\n",
              "    }\n",
              "  };\n",
              "\n",
              "  cancel.remove();\n",
              "\n",
              "  // Disable the input element since further picks are not allowed.\n",
              "  inputElement.disabled = true;\n",
              "\n",
              "  if (!files) {\n",
              "    return {\n",
              "      response: {\n",
              "        action: 'complete',\n",
              "      }\n",
              "    };\n",
              "  }\n",
              "\n",
              "  for (const file of files) {\n",
              "    const li = document.createElement('li');\n",
              "    li.append(span(file.name, {fontWeight: 'bold'}));\n",
              "    li.append(span(\n",
              "        `(${file.type || 'n/a'}) - ${file.size} bytes, ` +\n",
              "        `last modified: ${\n",
              "            file.lastModifiedDate ? file.lastModifiedDate.toLocaleDateString() :\n",
              "                                    'n/a'} - `));\n",
              "    const percent = span('0% done');\n",
              "    li.appendChild(percent);\n",
              "\n",
              "    outputElement.appendChild(li);\n",
              "\n",
              "    const fileDataPromise = new Promise((resolve) => {\n",
              "      const reader = new FileReader();\n",
              "      reader.onload = (e) => {\n",
              "        resolve(e.target.result);\n",
              "      };\n",
              "      reader.readAsArrayBuffer(file);\n",
              "    });\n",
              "    // Wait for the data to be ready.\n",
              "    let fileData = yield {\n",
              "      promise: fileDataPromise,\n",
              "      response: {\n",
              "        action: 'continue',\n",
              "      }\n",
              "    };\n",
              "\n",
              "    // Use a chunked sending to avoid message size limits. See b/62115660.\n",
              "    let position = 0;\n",
              "    do {\n",
              "      const length = Math.min(fileData.byteLength - position, MAX_PAYLOAD_SIZE);\n",
              "      const chunk = new Uint8Array(fileData, position, length);\n",
              "      position += length;\n",
              "\n",
              "      const base64 = btoa(String.fromCharCode.apply(null, chunk));\n",
              "      yield {\n",
              "        response: {\n",
              "          action: 'append',\n",
              "          file: file.name,\n",
              "          data: base64,\n",
              "        },\n",
              "      };\n",
              "\n",
              "      let percentDone = fileData.byteLength === 0 ?\n",
              "          100 :\n",
              "          Math.round((position / fileData.byteLength) * 100);\n",
              "      percent.textContent = `${percentDone}% done`;\n",
              "\n",
              "    } while (position < fileData.byteLength);\n",
              "  }\n",
              "\n",
              "  // All done.\n",
              "  yield {\n",
              "    response: {\n",
              "      action: 'complete',\n",
              "    }\n",
              "  };\n",
              "}\n",
              "\n",
              "scope.google = scope.google || {};\n",
              "scope.google.colab = scope.google.colab || {};\n",
              "scope.google.colab._files = {\n",
              "  _uploadFiles,\n",
              "  _uploadFilesContinue,\n",
              "};\n",
              "})(self);\n",
              "</script> "
            ]
          },
          "metadata": {}
        },
        {
          "output_type": "stream",
          "name": "stdout",
          "text": [
            "Saving employee_handbook.md to employee_handbook.md\n",
            "Saving engineering_master_doc.md to engineering_master_doc.md\n",
            "Saving financial_summary.md to financial_summary.md\n",
            "Saving hr_data.csv to hr_data.csv\n",
            "Saving market_report_q4_2024.md to market_report_q4_2024.md\n",
            "Saving marketing_report_2024.md to marketing_report_2024.md\n",
            "Saving marketing_report_q1_2024.md to marketing_report_q1_2024.md\n",
            "Saving marketing_report_q2_2024.md to marketing_report_q2_2024.md\n",
            "Saving marketing_report_q3_2024.md to marketing_report_q3_2024.md\n",
            "Saving quarterly_financial_report.md to quarterly_financial_report.md\n"
          ]
        }
      ]
    },
    {
      "cell_type": "code",
      "source": [
        "!pip install -q -U langchain google-generativeai chromadb markdown2 pandas langchain-google-genai langchain-community"
      ],
      "metadata": {
        "colab": {
          "base_uri": "https://localhost:8080/"
        },
        "collapsed": true,
        "id": "SqrHbMCW5nZM",
        "outputId": "8ad8e4c1-f86a-4891-bf5e-ce4b46763ec7"
      },
      "execution_count": 15,
      "outputs": [
        {
          "output_type": "stream",
          "name": "stdout",
          "text": [
            "\u001b[?25l   \u001b[90m━━━━━━━━━━━━━━━━━━━━━━━━━━━━━━━━━━━━━━━━\u001b[0m \u001b[32m0.0/2.5 MB\u001b[0m \u001b[31m?\u001b[0m eta \u001b[36m-:--:--\u001b[0m\r\u001b[2K   \u001b[91m━━━━━━━━━━━━━━━━━━━━━━━━━━━━━━━━━\u001b[0m\u001b[91m╸\u001b[0m\u001b[90m━━━━━━\u001b[0m \u001b[32m2.1/2.5 MB\u001b[0m \u001b[31m63.6 MB/s\u001b[0m eta \u001b[36m0:00:01\u001b[0m\r\u001b[2K   \u001b[90m━━━━━━━━━━━━━━━━━━━━━━━━━━━━━━━━━━━━━━━━\u001b[0m \u001b[32m2.5/2.5 MB\u001b[0m \u001b[31m44.9 MB/s\u001b[0m eta \u001b[36m0:00:00\u001b[0m\n",
            "\u001b[?25h\u001b[?25l   \u001b[90m━━━━━━━━━━━━━━━━━━━━━━━━━━━━━━━━━━━━━━━━\u001b[0m \u001b[32m0.0/44.4 kB\u001b[0m \u001b[31m?\u001b[0m eta \u001b[36m-:--:--\u001b[0m\r\u001b[2K   \u001b[90m━━━━━━━━━━━━━━━━━━━━━━━━━━━━━━━━━━━━━━━━\u001b[0m \u001b[32m44.4/44.4 kB\u001b[0m \u001b[31m3.7 MB/s\u001b[0m eta \u001b[36m0:00:00\u001b[0m\n",
            "\u001b[?25h\u001b[?25l   \u001b[90m━━━━━━━━━━━━━━━━━━━━━━━━━━━━━━━━━━━━━━━━\u001b[0m \u001b[32m0.0/50.9 kB\u001b[0m \u001b[31m?\u001b[0m eta \u001b[36m-:--:--\u001b[0m\r\u001b[2K   \u001b[90m━━━━━━━━━━━━━━━━━━━━━━━━━━━━━━━━━━━━━━━━\u001b[0m \u001b[32m50.9/50.9 kB\u001b[0m \u001b[31m5.0 MB/s\u001b[0m eta \u001b[36m0:00:00\u001b[0m\n",
            "\u001b[?25h"
          ]
        }
      ]
    },
    {
      "cell_type": "code",
      "source": [
        "from google.colab import userdata\n",
        "GOOGLE_API_KEY = userdata.get('GOOGLE_API_KEY')\n",
        "\n",
        "os.environ['GOOGLE_API_KEY'] = GOOGLE_API_KEY"
      ],
      "metadata": {
        "id": "-5cdgaH_6m4T"
      },
      "execution_count": 5,
      "outputs": []
    },
    {
      "cell_type": "code",
      "source": [
        "import os\n",
        "import pandas as pd\n",
        "import markdown2\n",
        "from langchain.docstore.document import Document  # ✅ correct import\n",
        "\n",
        "from bs4 import BeautifulSoup\n",
        "\n",
        "def clean_html(text):\n",
        "    soup = BeautifulSoup(text, \"html.parser\")\n",
        "    return soup.get_text(separator=\"\\n\")\n",
        "\n",
        "\n",
        "def load_documents(path=\"/content/data\"):\n",
        "    docs = []\n",
        "\n",
        "    for file in os.listdir(path):\n",
        "        file_path = os.path.join(path, file)\n",
        "\n",
        "        # Load Markdown files\n",
        "        if file.endswith(\".md\"):\n",
        "            with open(file_path, \"r\") as f:\n",
        "                markdown_text = f.read()\n",
        "            html_text = markdown2.markdown(markdown_text)\n",
        "            clean_text = clean_html(html_text)\n",
        "            docs.append(Document(page_content=clean_text, metadata={\"source\": file}))\n",
        "\n",
        "        # Load CSV (HR data)\n",
        "        elif file.endswith(\".csv\"):\n",
        "            df = pd.read_csv(file_path)\n",
        "            for _, row in df.iterrows():\n",
        "                row_text = \"\\n\".join(f\"{col}: {row[col]}\" for col in df.columns)\n",
        "                docs.append(Document(page_content=row_text, metadata={\"source\": file}))\n",
        "\n",
        "        else:\n",
        "            print(f\"⚠️ Skipping unsupported file: {file}\")\n",
        "\n",
        "    return docs\n"
      ],
      "metadata": {
        "id": "nyah9f9d69oa"
      },
      "execution_count": 6,
      "outputs": []
    },
    {
      "cell_type": "code",
      "source": [
        "documents = load_documents(\"content/data\")\n",
        "print(f\"Loaded {len(documents)} documents.\")"
      ],
      "metadata": {
        "colab": {
          "base_uri": "https://localhost:8080/"
        },
        "id": "TolEnHoB7Gq9",
        "outputId": "b8436900-040b-4d27-9517-00c0461a053a"
      },
      "execution_count": 7,
      "outputs": [
        {
          "output_type": "stream",
          "name": "stdout",
          "text": [
            "Loaded 109 documents.\n"
          ]
        }
      ]
    },
    {
      "cell_type": "code",
      "source": [
        "from langchain.text_splitter import RecursiveCharacterTextSplitter\n",
        "from langchain_google_genai import GoogleGenerativeAIEmbeddings\n",
        "from langchain.vectorstores import Chroma\n",
        "\n",
        "text_splitter = RecursiveCharacterTextSplitter(chunk_size=500, chunk_overlap=50)\n",
        "split_docs = text_splitter.split_documents(documents)\n",
        "\n",
        "print(f\"Split into {len(split_docs)} chunks.\")\n",
        "\n",
        "os.makedirs(\"content/vector_store\", exist_ok=True)\n",
        "\n",
        "embedding = GoogleGenerativeAIEmbeddings(model=\"models/embedding-001\")\n",
        "vectorstore = Chroma.from_documents(documents=split_docs, embedding=embedding, persist_directory=\"content/vector_store\")\n",
        "vectorstore.persist()"
      ],
      "metadata": {
        "colab": {
          "base_uri": "https://localhost:8080/"
        },
        "id": "Y3PZJOqG7GuG",
        "outputId": "b0a09d77-7461-471d-c713-fde7f2d32fa5"
      },
      "execution_count": 20,
      "outputs": [
        {
          "output_type": "stream",
          "name": "stdout",
          "text": [
            "Split into 334 chunks.\n"
          ]
        },
        {
          "output_type": "stream",
          "name": "stderr",
          "text": [
            "<ipython-input-20-26e1f49a86eb>:14: LangChainDeprecationWarning: Since Chroma 0.4.x the manual persistence method is no longer supported as docs are automatically persisted.\n",
            "  vectorstore.persist()\n"
          ]
        }
      ]
    },
    {
      "cell_type": "code",
      "source": [
        "# Simulated user-role mapping\n",
        "USER_DB = {\n",
        "    \"finance_user\": {\"role\": \"finance\"},\n",
        "    \"hr_user\": {\"role\": \"hr\"},\n",
        "    \"eng_user\": {\"role\": \"engineering\"},\n",
        "    \"marketing_user\": {\"role\": \"marketing\"},\n",
        "    \"staff_user\": {\"role\": \"general\"},\n",
        "\n",
        "}\n",
        "\n",
        "# Get role from username\n",
        "def get_role(username: str) -> str:\n",
        "    return USER_DB.get(username, {}).get(\"role\", \"general\")\n",
        "\n",
        "# Filter docs by role-specific source file\n",
        "def retrieve_docs_by_role(query, role, vectordb):\n",
        "    all_docs = vectordb.similarity_search(query, k=10)\n",
        "\n",
        "\n",
        "\n",
        "    # Filter docs by matching metadata\n",
        "    role_docs = []\n",
        "    for doc in all_docs:\n",
        "        source = doc.metadata.get(\"source\", \"\").lower()\n",
        "        if role.lower() in source:\n",
        "            role_docs.append(doc)\n",
        "\n",
        "    return role_docs\n"
      ],
      "metadata": {
        "id": "m8D8UQqK7GzT"
      },
      "execution_count": 21,
      "outputs": []
    },
    {
      "cell_type": "code",
      "source": [
        "from langchain_google_genai import ChatGoogleGenerativeAI\n",
        "\n",
        "llm = ChatGoogleGenerativeAI(model=\"gemini-1.5-flash\")\n",
        "\n",
        "def get_rag_response(query, username, vectordb):\n",
        "    role = get_role(username)\n",
        "    docs = retrieve_docs_by_role(query, role, vectordb)\n",
        "\n",
        "    if not docs:\n",
        "        return f\"🔒 No accessible data found for role: {role}\"\n",
        "\n",
        "    context = \"\\n\\n\".join([doc.page_content for doc in docs])\n",
        "    prompt = f\"\"\"You are an internal company chatbot for FinSolve Technologies.\n",
        "\n",
        "Context:\n",
        "{context}\n",
        "\n",
        "Answer the following question clearly and concisely:\n",
        "Q: {query}\n",
        "\"\"\"\n",
        "\n",
        "    response = llm.invoke(prompt)\n",
        "    return f\"🧑‍💼 Role: {role}\\n📌 Answer:\\n{response.content}\""
      ],
      "metadata": {
        "id": "4WvfnqG17HEf"
      },
      "execution_count": 28,
      "outputs": []
    },
    {
      "cell_type": "code",
      "source": [
        "print(get_rag_response(\"What is the system architecture?\", \"eng_user\", vectorstore))\n",
        "print(get_rag_response(\"Attendance of Aadhya Patel?\", \"hr_user\", vectorstore))\n",
        "print(get_rag_response(\"What are marketing KPIs?\", \"finance_user\", vectorstore))"
      ],
      "metadata": {
        "colab": {
          "base_uri": "https://localhost:8080/"
        },
        "id": "RkmQoTWrL7X6",
        "outputId": "5a116cce-397f-4145-d37a-024a29c7baa6"
      },
      "execution_count": 30,
      "outputs": [
        {
          "output_type": "stream",
          "name": "stdout",
          "text": [
            "🧑‍💼 Role: engineering\n",
            "📌 Answer:\n",
            "FinSolve's system architecture is a microservices-based, cloud-native system built on AWS, Kubernetes, and Cloudflare.  It uses a modular design with client applications (iOS, Android, and React web app) communicating via REST and GraphQL APIs to a microservices layer (e.g., Authentication, Payment Processing, Wealth Management).  Data is stored in PostgreSQL, MongoDB, Redis, and Amazon S3.  The architecture prioritizes scalability, resilience, and security.\n",
            "🧑‍💼 Role: hr\n",
            "📌 Answer:\n",
            "Aadhya Patel's attendance is 99.31%.\n",
            "🔒 No accessible data found for role: finance\n"
          ]
        }
      ]
    },
    {
      "cell_type": "code",
      "source": [],
      "metadata": {
        "id": "c_EfBr9cMYcc"
      },
      "execution_count": null,
      "outputs": []
    }
  ]
}